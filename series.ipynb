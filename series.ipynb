{
 "cells": [
  {
   "cell_type": "markdown",
   "id": "84b0263c",
   "metadata": {},
   "source": [
    "# create a series object from a python list"
   ]
  },
  {
   "cell_type": "code",
   "execution_count": null,
   "id": "87e3c598",
   "metadata": {},
   "outputs": [],
   "source": [
    "import pandas as pd"
   ]
  },
  {
   "cell_type": "code",
   "execution_count": null,
   "id": "cbc5f6dc",
   "metadata": {},
   "outputs": [],
   "source": [
    "ice_cream=['chocolates','vanila','strawberry','rum rasian']\n",
    "\n",
    "pd.Series(ice_cream)"
   ]
  },
  {
   "cell_type": "code",
   "execution_count": 3,
   "id": "0f22ec40",
   "metadata": {},
   "outputs": [
    {
     "data": {
      "text/plain": [
       "0     4\n",
       "1     6\n",
       "2     8\n",
       "3    12\n",
       "dtype: int64"
      ]
     },
     "execution_count": 3,
     "metadata": {},
     "output_type": "execute_result"
    }
   ],
   "source": [
    "lottery=[4,6,8,12]\n",
    "\n",
    "pd.Series(lottery)"
   ]
  },
  {
   "cell_type": "code",
   "execution_count": 4,
   "id": "a4dc5963",
   "metadata": {},
   "outputs": [
    {
     "data": {
      "text/plain": [
       "0     True\n",
       "1    False\n",
       "2    False\n",
       "3    False\n",
       "4     True\n",
       "dtype: bool"
      ]
     },
     "execution_count": 4,
     "metadata": {},
     "output_type": "execute_result"
    }
   ],
   "source": [
    "registeration=[True,False,False,False,True]\n",
    "\n",
    "pd.Series(registeration)"
   ]
  },
  {
   "cell_type": "markdown",
   "id": "60d8a851",
   "metadata": {},
   "source": [
    "# create a series object from a python dictionary"
   ]
  },
  {
   "cell_type": "code",
   "execution_count": 5,
   "id": "7b65fe8d",
   "metadata": {},
   "outputs": [
    {
     "data": {
      "text/plain": [
       "salman    orange\n",
       "tuna         red\n",
       "eel        brown\n",
       "dtype: object"
      ]
     },
     "execution_count": 5,
     "metadata": {},
     "output_type": "execute_result"
    }
   ],
   "source": [
    "sushi={\n",
    "    'salman':'orange',\n",
    "    'tuna':'red',\n",
    "    'eel':'brown'\n",
    "}\n",
    "\n",
    "pd.Series(sushi)"
   ]
  },
  {
   "cell_type": "markdown",
   "id": "eb42aab9",
   "metadata": {},
   "source": [
    "# intro to methods"
   ]
  },
  {
   "cell_type": "code",
   "execution_count": 6,
   "id": "1df8b493",
   "metadata": {},
   "outputs": [
    {
     "data": {
      "text/plain": [
       "'HELLO'"
      ]
     },
     "execution_count": 6,
     "metadata": {},
     "output_type": "execute_result"
    }
   ],
   "source": [
    "'hello'.upper()"
   ]
  },
  {
   "cell_type": "code",
   "execution_count": 7,
   "id": "ae008e60",
   "metadata": {},
   "outputs": [
    {
     "data": {
      "text/plain": [
       "[1, 2, 3, 4]"
      ]
     },
     "execution_count": 7,
     "metadata": {},
     "output_type": "execute_result"
    }
   ],
   "source": [
    "values=[1,2,3]\n",
    "values.append(4)\n",
    "values"
   ]
  },
  {
   "cell_type": "code",
   "execution_count": 8,
   "id": "e578e193",
   "metadata": {},
   "outputs": [
    {
     "data": {
      "text/plain": [
       "0    33.60\n",
       "1    77.20\n",
       "2    78.30\n",
       "3     1.25\n",
       "dtype: float64"
      ]
     },
     "execution_count": 8,
     "metadata": {},
     "output_type": "execute_result"
    }
   ],
   "source": [
    "prices=pd.Series([33.6,77.2,78.3,1.25])\n",
    "prices"
   ]
  },
  {
   "cell_type": "code",
   "execution_count": 9,
   "id": "e124edbf",
   "metadata": {},
   "outputs": [
    {
     "data": {
      "text/plain": [
       "190.35000000000002"
      ]
     },
     "execution_count": 9,
     "metadata": {},
     "output_type": "execute_result"
    }
   ],
   "source": [
    "prices.sum()"
   ]
  },
  {
   "cell_type": "code",
   "execution_count": 10,
   "id": "870098ae",
   "metadata": {},
   "outputs": [
    {
     "data": {
      "text/plain": [
       "253879.91999999998"
      ]
     },
     "execution_count": 10,
     "metadata": {},
     "output_type": "execute_result"
    }
   ],
   "source": [
    "prices.product()"
   ]
  },
  {
   "cell_type": "code",
   "execution_count": 11,
   "id": "96da9970",
   "metadata": {},
   "outputs": [
    {
     "data": {
      "text/plain": [
       "47.587500000000006"
      ]
     },
     "execution_count": 11,
     "metadata": {},
     "output_type": "execute_result"
    }
   ],
   "source": [
    "prices.mean()"
   ]
  },
  {
   "cell_type": "markdown",
   "id": "9b77770c",
   "metadata": {},
   "source": [
    "# intro to attributes"
   ]
  },
  {
   "cell_type": "code",
   "execution_count": 12,
   "id": "0ab9dc58",
   "metadata": {},
   "outputs": [
    {
     "data": {
      "text/plain": [
       "0        smart\n",
       "1     handsome\n",
       "2     charming\n",
       "3    brilliant\n",
       "4       humble\n",
       "dtype: object"
      ]
     },
     "execution_count": 12,
     "metadata": {},
     "output_type": "execute_result"
    }
   ],
   "source": [
    "adjectives=pd.Series(['smart','handsome','charming','brilliant','humble'])\n",
    "adjectives"
   ]
  },
  {
   "cell_type": "code",
   "execution_count": 13,
   "id": "27ac7d7e",
   "metadata": {},
   "outputs": [
    {
     "data": {
      "text/plain": [
       "5"
      ]
     },
     "execution_count": 13,
     "metadata": {},
     "output_type": "execute_result"
    }
   ],
   "source": [
    "adjectives.size"
   ]
  },
  {
   "cell_type": "code",
   "execution_count": 14,
   "id": "5371c460",
   "metadata": {},
   "outputs": [
    {
     "data": {
      "text/plain": [
       "int"
      ]
     },
     "execution_count": 14,
     "metadata": {},
     "output_type": "execute_result"
    }
   ],
   "source": [
    "type(adjectives.size)"
   ]
  },
  {
   "cell_type": "code",
   "execution_count": 15,
   "id": "dd1a0fd1",
   "metadata": {},
   "outputs": [
    {
     "data": {
      "text/plain": [
       "True"
      ]
     },
     "execution_count": 15,
     "metadata": {},
     "output_type": "execute_result"
    }
   ],
   "source": [
    "adjectives.is_unique"
   ]
  },
  {
   "cell_type": "code",
   "execution_count": 16,
   "id": "bf12c9fd",
   "metadata": {},
   "outputs": [
    {
     "data": {
      "text/plain": [
       "bool"
      ]
     },
     "execution_count": 16,
     "metadata": {},
     "output_type": "execute_result"
    }
   ],
   "source": [
    "type(adjectives.is_unique)"
   ]
  },
  {
   "cell_type": "code",
   "execution_count": 17,
   "id": "24b6d2cb",
   "metadata": {},
   "outputs": [
    {
     "data": {
      "text/plain": [
       "array(['smart', 'handsome', 'charming', 'brilliant', 'humble'],\n",
       "      dtype=object)"
      ]
     },
     "execution_count": 17,
     "metadata": {},
     "output_type": "execute_result"
    }
   ],
   "source": [
    "adjectives.values"
   ]
  },
  {
   "cell_type": "code",
   "execution_count": 18,
   "id": "e703f830",
   "metadata": {},
   "outputs": [
    {
     "data": {
      "text/plain": [
       "numpy.ndarray"
      ]
     },
     "execution_count": 18,
     "metadata": {},
     "output_type": "execute_result"
    }
   ],
   "source": [
    "type(adjectives.values)"
   ]
  },
  {
   "cell_type": "code",
   "execution_count": 19,
   "id": "02423945",
   "metadata": {},
   "outputs": [
    {
     "data": {
      "text/plain": [
       "RangeIndex(start=0, stop=5, step=1)"
      ]
     },
     "execution_count": 19,
     "metadata": {},
     "output_type": "execute_result"
    }
   ],
   "source": [
    "adjectives.index"
   ]
  },
  {
   "cell_type": "code",
   "execution_count": 20,
   "id": "4eac19e4",
   "metadata": {},
   "outputs": [
    {
     "data": {
      "text/plain": [
       "pandas.core.indexes.range.RangeIndex"
      ]
     },
     "execution_count": 20,
     "metadata": {},
     "output_type": "execute_result"
    }
   ],
   "source": [
    "type(adjectives.index)"
   ]
  },
  {
   "cell_type": "code",
   "execution_count": 21,
   "id": "2c2ab867",
   "metadata": {},
   "outputs": [
    {
     "data": {
      "text/plain": [
       "dtype('O')"
      ]
     },
     "execution_count": 21,
     "metadata": {},
     "output_type": "execute_result"
    }
   ],
   "source": [
    "adjectives.dtype"
   ]
  },
  {
   "cell_type": "raw",
   "id": "78f7f1ef",
   "metadata": {},
   "source": [
    "methods need paranthesis=sum(),count(),mean()\n",
    "attributes =it just gives information about the object---example=size,is_unique,dtype"
   ]
  },
  {
   "cell_type": "markdown",
   "id": "878662d2",
   "metadata": {},
   "source": [
    "# parameters and arguments"
   ]
  },
  {
   "cell_type": "raw",
   "id": "0829c932",
   "metadata": {},
   "source": [
    "parameter-the name we give to an expected input\n",
    "argument-the concrete value that we provide to a parameter\n",
    "\n",
    "difficulty- easy,medium,hard---- here difficulty is parameter , (easy,medium,hard)-argument\n",
    "volume- 1 to 5\n",
    "subtitles- true,false"
   ]
  },
  {
   "cell_type": "code",
   "execution_count": 40,
   "id": "513ebc88",
   "metadata": {},
   "outputs": [
    {
     "data": {
      "text/plain": [
       "monday          apple\n",
       "wednesday        plum\n",
       "tuesday      bluebery\n",
       "friday          grape\n",
       "thursday       orange\n",
       "Name: notes, dtype: object"
      ]
     },
     "execution_count": 40,
     "metadata": {},
     "output_type": "execute_result"
    }
   ],
   "source": [
    "fruits=['apple','plum','bluebery','grape','orange']\n",
    "weekdays=['monday','wednesday','tuesday','friday','thursday']\n",
    "\n",
    "pd.Series(fruits,weekdays)\n",
    "pd.Series(fruits,index=[1,2,3,4,5])\n",
    "pd.Series(data=fruits,index=weekdays,name='notes')"
   ]
  },
  {
   "cell_type": "markdown",
   "id": "b3b4ef38",
   "metadata": {},
   "source": [
    "# import series with the pd.read_csv function"
   ]
  },
  {
   "cell_type": "raw",
   "id": "2fefa060",
   "metadata": {},
   "source": [
    "pokemon=pd.read_csv('pokemon.csv' ,usecols=['Pokemon']).squeeze()\n",
    "pokemon"
   ]
  },
  {
   "cell_type": "raw",
   "id": "ce44dffb",
   "metadata": {},
   "source": [
    "google=pd.read_csv('google_stock_price.csv', usecols=['Stock Price']).squeeze()\n",
    "google"
   ]
  },
  {
   "cell_type": "markdown",
   "id": "f6354e36",
   "metadata": {},
   "source": [
    "# the head and tail method on a series "
   ]
  },
  {
   "cell_type": "code",
   "execution_count": null,
   "id": "512224c5",
   "metadata": {},
   "outputs": [],
   "source": [
    "pokemon=pd.read_csv('pokemon.csv' ,usecols=['Pokemon']).squeeze()"
   ]
  },
  {
   "cell_type": "code",
   "execution_count": null,
   "id": "cb60a61b",
   "metadata": {},
   "outputs": [],
   "source": [
    "google=pd.read_csv('google_stock_price.csv', usecols=['Stock Price']).squeeze()"
   ]
  },
  {
   "cell_type": "code",
   "execution_count": null,
   "id": "52b5dd8e",
   "metadata": {},
   "outputs": [],
   "source": [
    "pokemon.head()\n",
    "pokemon.head(2)\n",
    "pokemon.head(n=3)"
   ]
  },
  {
   "cell_type": "code",
   "execution_count": null,
   "id": "bfc9ac50",
   "metadata": {},
   "outputs": [],
   "source": [
    "pokemon.tail(5)\n",
    "pokemon.head(n=2)"
   ]
  },
  {
   "cell_type": "markdown",
   "id": "263c418b",
   "metadata": {},
   "source": [
    "# passing series to python's built-in functions"
   ]
  },
  {
   "cell_type": "code",
   "execution_count": null,
   "id": "a900de2b",
   "metadata": {},
   "outputs": [],
   "source": [
    "pokemon=pd.read_csv('pokemon.csv' ,usecols=['Pokemon']).squeeze()"
   ]
  },
  {
   "cell_type": "code",
   "execution_count": null,
   "id": "ef3f57a1",
   "metadata": {},
   "outputs": [],
   "source": [
    "google=pd.read_csv('google_stock_price.csv', usecols=['Stock Price']).squeeze()"
   ]
  },
  {
   "cell_type": "code",
   "execution_count": null,
   "id": "65297476",
   "metadata": {},
   "outputs": [],
   "source": [
    "len(pokemon)"
   ]
  },
  {
   "cell_type": "code",
   "execution_count": null,
   "id": "afb3fa31",
   "metadata": {},
   "outputs": [],
   "source": [
    "type(pokemon)"
   ]
  },
  {
   "cell_type": "code",
   "execution_count": null,
   "id": "232c7aa6",
   "metadata": {},
   "outputs": [],
   "source": [
    "dir(pokemon)\n",
    "sorted(pokemon)\n",
    "type(sorted(pokemon))\n",
    "list(pokemon)\n",
    "dict(pokemon)\n",
    "max(google)\n",
    "min(google)\n",
    "max(pokemon)\n",
    "min(pokemon)"
   ]
  },
  {
   "cell_type": "markdown",
   "id": "3576b2ae",
   "metadata": {},
   "source": [
    "# the sort values method"
   ]
  },
  {
   "cell_type": "code",
   "execution_count": null,
   "id": "1333b077",
   "metadata": {},
   "outputs": [],
   "source": [
    "pokemon.sort_values()\n",
    "pokemon.sort_values().head(2)\n",
    "pokemon.sort_values(ascending=False)\n",
    "google.sort_values(ascending=True)"
   ]
  },
  {
   "cell_type": "markdown",
   "id": "17d042d6",
   "metadata": {},
   "source": [
    "# the sort index method"
   ]
  },
  {
   "cell_type": "code",
   "execution_count": null,
   "id": "37c17568",
   "metadata": {},
   "outputs": [],
   "source": [
    "pokemon=pd.read_csv('pokemon.csv',index_col='Pokemon').squeeze()"
   ]
  },
  {
   "cell_type": "code",
   "execution_count": null,
   "id": "2c7db36b",
   "metadata": {},
   "outputs": [],
   "source": [
    "pokemon.sort_index(ascending=True)"
   ]
  },
  {
   "cell_type": "markdown",
   "id": "7404c184",
   "metadata": {},
   "source": [
    "# check for inclusion with python's in keyword"
   ]
  },
  {
   "cell_type": "code",
   "execution_count": null,
   "id": "c125748f",
   "metadata": {},
   "outputs": [],
   "source": [
    "pokemon=pd.read_csv('pokemon.csv',usecols=['Pokemon']).squeeze()\n",
    "pokemon.head()"
   ]
  },
  {
   "cell_type": "code",
   "execution_count": null,
   "id": "42cd29ae",
   "metadata": {},
   "outputs": [],
   "source": [
    "'car' in 'racecar'"
   ]
  },
  {
   "cell_type": "code",
   "execution_count": null,
   "id": "eca35637",
   "metadata": {},
   "outputs": [],
   "source": [
    "1 in [1,2,3]"
   ]
  },
  {
   "cell_type": "code",
   "execution_count": null,
   "id": "7c085518",
   "metadata": {},
   "outputs": [],
   "source": [
    "'Bulbasaur' in pokemon"
   ]
  },
  {
   "cell_type": "raw",
   "id": "a2c75447",
   "metadata": {},
   "source": [
    "why false the Bulbasaur is present in pokemon. it is because ,in series the in keyword defaultly goes and check the index so it gives false"
   ]
  },
  {
   "cell_type": "code",
   "execution_count": null,
   "id": "fa29cf78",
   "metadata": {},
   "outputs": [],
   "source": [
    "2 in pokemon\n",
    "pokemon.index"
   ]
  },
  {
   "cell_type": "code",
   "execution_count": null,
   "id": "e904b7fa",
   "metadata": {},
   "outputs": [],
   "source": [
    "2 in pokemon.index"
   ]
  },
  {
   "cell_type": "code",
   "execution_count": null,
   "id": "aad1d971",
   "metadata": {},
   "outputs": [],
   "source": [
    "pokemon.values"
   ]
  },
  {
   "cell_type": "code",
   "execution_count": null,
   "id": "79ecc8a0",
   "metadata": {},
   "outputs": [],
   "source": [
    "'Bulbasaur' in pokemon.values"
   ]
  },
  {
   "cell_type": "markdown",
   "id": "570b374a",
   "metadata": {},
   "source": [
    "# extract series value by index position"
   ]
  },
  {
   "cell_type": "code",
   "execution_count": null,
   "id": "12f0e13a",
   "metadata": {},
   "outputs": [],
   "source": [
    "pokemon=pd.read_csv('pokemon.csv',usecols=['Pokemon']).squeeze()\n",
    "pokemon.head()"
   ]
  },
  {
   "cell_type": "code",
   "execution_count": null,
   "id": "20a38a3f",
   "metadata": {},
   "outputs": [],
   "source": [
    "# pokemon[0]\n",
    "pokemon[600]\n",
    "\n",
    "#pokemon[1000]-----it gives u a value error\n",
    "\n",
    "#indexing\n",
    "pokemon[[1,2,3]]\n",
    "\n",
    "#slicing\n",
    "pokemon[0:5:2]\n",
    "\n",
    "pokemon[700:]\n",
    "\n",
    "#pokemon[-1]---- it gives you a value error\n",
    "\n",
    "pokemon[-20:-10]\n",
    "pokemon[-10: ]"
   ]
  },
  {
   "cell_type": "markdown",
   "id": "4d950fe1",
   "metadata": {},
   "source": [
    "# extract series value by index label"
   ]
  },
  {
   "cell_type": "code",
   "execution_count": null,
   "id": "30807cb5",
   "metadata": {},
   "outputs": [],
   "source": [
    "pokemon=pd.read_csv('pokemon.csv',index_col='Pokemon').squeeze()\n",
    "pokemon.head()"
   ]
  },
  {
   "cell_type": "code",
   "execution_count": null,
   "id": "e4afc9a4",
   "metadata": {},
   "outputs": [],
   "source": [
    "pokemon[0]           #---------------through index position\n",
    "print(pokemon[[50,61]])\n",
    "pokemon['Ivysaur']   #-------through index label"
   ]
  },
  {
   "cell_type": "code",
   "execution_count": null,
   "id": "f9e2578a",
   "metadata": {},
   "outputs": [],
   "source": [
    "pokemon[['Ivysaur','Charmander'] ]"
   ]
  },
  {
   "cell_type": "raw",
   "id": "b676c159",
   "metadata": {},
   "source": [
    "in below code i changed the index column to show you that if the index column conatain duplicates it shows all the values associated with it not the first occurs"
   ]
  },
  {
   "cell_type": "code",
   "execution_count": null,
   "id": "ca6d3c59",
   "metadata": {},
   "outputs": [],
   "source": [
    "pokemon=pd.read_csv('pokemon.csv',index_col='Type').squeeze()\n",
    "pokemon"
   ]
  },
  {
   "cell_type": "code",
   "execution_count": null,
   "id": "28e516f3",
   "metadata": {},
   "outputs": [],
   "source": [
    "pokemon[['Grass','Fire']]"
   ]
  },
  {
   "cell_type": "markdown",
   "id": "bf0ba7d2",
   "metadata": {},
   "source": [
    "# the get method on series"
   ]
  },
  {
   "cell_type": "code",
   "execution_count": 27,
   "id": "04bb241a",
   "metadata": {},
   "outputs": [],
   "source": [
    "pokemon=pd.read_csv('pokemon.csv',index_col='Pokemon').squeeze()"
   ]
  },
  {
   "cell_type": "code",
   "execution_count": 35,
   "id": "d643e631",
   "metadata": {},
   "outputs": [],
   "source": [
    "pokemon.get(0)\n",
    "pokemon.get('Charmander')\n",
    "pokemon.get([4,32])\n",
    "pokemon.get(['Ivysaur','Charmander'])\n",
    "#pokemon['ludo']    #--------------------it gives you the key error because the passed value was not there\n",
    "pokemon.get('ludo')  # ------------------ it does nt gives you the key error if the value was not present"
   ]
  },
  {
   "cell_type": "code",
   "execution_count": 37,
   "id": "1c1652f9",
   "metadata": {},
   "outputs": [
    {
     "name": "stdout",
     "output_type": "stream",
     "text": [
      "not exist\n"
     ]
    }
   ],
   "source": [
    "print(pokemon.get('ludo', 'not exist'))"
   ]
  },
  {
   "cell_type": "code",
   "execution_count": 39,
   "id": "5de9239c",
   "metadata": {},
   "outputs": [
    {
     "data": {
      "text/plain": [
       "'notexist'"
      ]
     },
     "execution_count": 39,
     "metadata": {},
     "output_type": "execute_result"
    }
   ],
   "source": [
    "pokemon.get([1,1000],'not exist')\n",
    "pokemon.get(['Ivysaur','Charmander','ludo'],'notexist')"
   ]
  },
  {
   "cell_type": "markdown",
   "id": "f4d4904e",
   "metadata": {},
   "source": [
    "# overwrite a series value"
   ]
  },
  {
   "cell_type": "code",
   "execution_count": 41,
   "id": "8336e1f7",
   "metadata": {},
   "outputs": [],
   "source": [
    "pokemon=pd.read_csv('pokemon.csv',index_col='Pokemon').squeeze()"
   ]
  },
  {
   "cell_type": "code",
   "execution_count": 47,
   "id": "3bab38eb",
   "metadata": {},
   "outputs": [
    {
     "data": {
      "text/plain": [
       "'grass'"
      ]
     },
     "execution_count": 47,
     "metadata": {},
     "output_type": "execute_result"
    }
   ],
   "source": [
    "pokemon[0]='fire'\n",
    "pokemon[0]\n",
    "pokemon[0]='grass'\n",
    "pokemon[0]"
   ]
  },
  {
   "cell_type": "code",
   "execution_count": 54,
   "id": "1eaa39ff",
   "metadata": {},
   "outputs": [],
   "source": [
    "#pokemon[[1,2,3]]=['free','nopower','freefire']\n",
    "#pokemon.head(3)"
   ]
  },
  {
   "cell_type": "markdown",
   "id": "b0266f12",
   "metadata": {},
   "source": [
    "# the copy method"
   ]
  },
  {
   "cell_type": "raw",
   "id": "5dce6682",
   "metadata": {},
   "source": [
    "here in the copy method we are creating a copy of the data frame ,\n",
    "for what reason if you change anything in the copy it wont change the original data frame \n",
    "\n",
    "but if you load original df variable with another variable it will act as a view, the changes occurs in one variable affect another to"
   ]
  },
  {
   "cell_type": "code",
   "execution_count": 63,
   "id": "416a45e2",
   "metadata": {},
   "outputs": [
    {
     "data": {
      "text/plain": [
       "0       Bulbasaur\n",
       "1         Ivysaur\n",
       "2        Venusaur\n",
       "3      Charmander\n",
       "4      Charmeleon\n",
       "          ...    \n",
       "716       Yveltal\n",
       "717       Zygarde\n",
       "718       Diancie\n",
       "719         Hoopa\n",
       "720     Volcanion\n",
       "Name: Pokemon, Length: 721, dtype: object"
      ]
     },
     "execution_count": 63,
     "metadata": {},
     "output_type": "execute_result"
    }
   ],
   "source": [
    "pokemon_df=pd.read_csv('pokemon.csv',usecols=['Pokemon'])\n",
    "pokemon_series=pokemon_df.squeeze()\n",
    "pokemon_series"
   ]
  },
  {
   "cell_type": "code",
   "execution_count": 67,
   "id": "675c84c0",
   "metadata": {},
   "outputs": [
    {
     "data": {
      "text/html": [
       "<div>\n",
       "<style scoped>\n",
       "    .dataframe tbody tr th:only-of-type {\n",
       "        vertical-align: middle;\n",
       "    }\n",
       "\n",
       "    .dataframe tbody tr th {\n",
       "        vertical-align: top;\n",
       "    }\n",
       "\n",
       "    .dataframe thead th {\n",
       "        text-align: right;\n",
       "    }\n",
       "</style>\n",
       "<table border=\"1\" class=\"dataframe\">\n",
       "  <thead>\n",
       "    <tr style=\"text-align: right;\">\n",
       "      <th></th>\n",
       "      <th>Pokemon</th>\n",
       "    </tr>\n",
       "  </thead>\n",
       "  <tbody>\n",
       "    <tr>\n",
       "      <th>0</th>\n",
       "      <td>dragon</td>\n",
       "    </tr>\n",
       "    <tr>\n",
       "      <th>1</th>\n",
       "      <td>Ivysaur</td>\n",
       "    </tr>\n",
       "    <tr>\n",
       "      <th>2</th>\n",
       "      <td>Venusaur</td>\n",
       "    </tr>\n",
       "    <tr>\n",
       "      <th>3</th>\n",
       "      <td>Charmander</td>\n",
       "    </tr>\n",
       "    <tr>\n",
       "      <th>4</th>\n",
       "      <td>Charmeleon</td>\n",
       "    </tr>\n",
       "    <tr>\n",
       "      <th>...</th>\n",
       "      <td>...</td>\n",
       "    </tr>\n",
       "    <tr>\n",
       "      <th>716</th>\n",
       "      <td>Yveltal</td>\n",
       "    </tr>\n",
       "    <tr>\n",
       "      <th>717</th>\n",
       "      <td>Zygarde</td>\n",
       "    </tr>\n",
       "    <tr>\n",
       "      <th>718</th>\n",
       "      <td>Diancie</td>\n",
       "    </tr>\n",
       "    <tr>\n",
       "      <th>719</th>\n",
       "      <td>Hoopa</td>\n",
       "    </tr>\n",
       "    <tr>\n",
       "      <th>720</th>\n",
       "      <td>Volcanion</td>\n",
       "    </tr>\n",
       "  </tbody>\n",
       "</table>\n",
       "<p>721 rows × 1 columns</p>\n",
       "</div>"
      ],
      "text/plain": [
       "        Pokemon\n",
       "0        dragon\n",
       "1       Ivysaur\n",
       "2      Venusaur\n",
       "3    Charmander\n",
       "4    Charmeleon\n",
       "..          ...\n",
       "716     Yveltal\n",
       "717     Zygarde\n",
       "718     Diancie\n",
       "719       Hoopa\n",
       "720   Volcanion\n",
       "\n",
       "[721 rows x 1 columns]"
      ]
     },
     "execution_count": 67,
     "metadata": {},
     "output_type": "execute_result"
    }
   ],
   "source": [
    "pokemon_series[0]= 'dragon'\n",
    "pokemon_series\n",
    "pokemon_df\n",
    "#so the changes occurs in both variables because it act as a view for avoiding this we use copy method"
   ]
  },
  {
   "cell_type": "code",
   "execution_count": 70,
   "id": "22bb62d5",
   "metadata": {},
   "outputs": [
    {
     "data": {
      "text/html": [
       "<div>\n",
       "<style scoped>\n",
       "    .dataframe tbody tr th:only-of-type {\n",
       "        vertical-align: middle;\n",
       "    }\n",
       "\n",
       "    .dataframe tbody tr th {\n",
       "        vertical-align: top;\n",
       "    }\n",
       "\n",
       "    .dataframe thead th {\n",
       "        text-align: right;\n",
       "    }\n",
       "</style>\n",
       "<table border=\"1\" class=\"dataframe\">\n",
       "  <thead>\n",
       "    <tr style=\"text-align: right;\">\n",
       "      <th></th>\n",
       "      <th>Pokemon</th>\n",
       "    </tr>\n",
       "  </thead>\n",
       "  <tbody>\n",
       "    <tr>\n",
       "      <th>0</th>\n",
       "      <td>Bulbasaur</td>\n",
       "    </tr>\n",
       "    <tr>\n",
       "      <th>1</th>\n",
       "      <td>Ivysaur</td>\n",
       "    </tr>\n",
       "    <tr>\n",
       "      <th>2</th>\n",
       "      <td>Venusaur</td>\n",
       "    </tr>\n",
       "    <tr>\n",
       "      <th>3</th>\n",
       "      <td>Charmander</td>\n",
       "    </tr>\n",
       "    <tr>\n",
       "      <th>4</th>\n",
       "      <td>Charmeleon</td>\n",
       "    </tr>\n",
       "    <tr>\n",
       "      <th>...</th>\n",
       "      <td>...</td>\n",
       "    </tr>\n",
       "    <tr>\n",
       "      <th>716</th>\n",
       "      <td>Yveltal</td>\n",
       "    </tr>\n",
       "    <tr>\n",
       "      <th>717</th>\n",
       "      <td>Zygarde</td>\n",
       "    </tr>\n",
       "    <tr>\n",
       "      <th>718</th>\n",
       "      <td>Diancie</td>\n",
       "    </tr>\n",
       "    <tr>\n",
       "      <th>719</th>\n",
       "      <td>Hoopa</td>\n",
       "    </tr>\n",
       "    <tr>\n",
       "      <th>720</th>\n",
       "      <td>Volcanion</td>\n",
       "    </tr>\n",
       "  </tbody>\n",
       "</table>\n",
       "<p>721 rows × 1 columns</p>\n",
       "</div>"
      ],
      "text/plain": [
       "        Pokemon\n",
       "0     Bulbasaur\n",
       "1       Ivysaur\n",
       "2      Venusaur\n",
       "3    Charmander\n",
       "4    Charmeleon\n",
       "..          ...\n",
       "716     Yveltal\n",
       "717     Zygarde\n",
       "718     Diancie\n",
       "719       Hoopa\n",
       "720   Volcanion\n",
       "\n",
       "[721 rows x 1 columns]"
      ]
     },
     "execution_count": 70,
     "metadata": {},
     "output_type": "execute_result"
    }
   ],
   "source": [
    "pokemon_series_copy[0]= 'dragon'\n",
    "pokemon_df"
   ]
  },
  {
   "cell_type": "code",
   "execution_count": 68,
   "id": "0750c531",
   "metadata": {},
   "outputs": [
    {
     "data": {
      "text/plain": [
       "0       Bulbasaur\n",
       "1         Ivysaur\n",
       "2        Venusaur\n",
       "3      Charmander\n",
       "4      Charmeleon\n",
       "          ...    \n",
       "716       Yveltal\n",
       "717       Zygarde\n",
       "718       Diancie\n",
       "719         Hoopa\n",
       "720     Volcanion\n",
       "Name: Pokemon, Length: 721, dtype: object"
      ]
     },
     "execution_count": 68,
     "metadata": {},
     "output_type": "execute_result"
    }
   ],
   "source": [
    "pokemon_df=pd.read_csv('pokemon.csv',usecols=['Pokemon'])\n",
    "pokemon_series_copy=pokemon_df.squeeze().copy()\n",
    "pokemon_series_copy"
   ]
  },
  {
   "cell_type": "markdown",
   "id": "2bdb0dec",
   "metadata": {},
   "source": [
    "# the inplace parameter"
   ]
  },
  {
   "cell_type": "code",
   "execution_count": 106,
   "id": "1b9fe1c7",
   "metadata": {},
   "outputs": [
    {
     "data": {
      "text/plain": [
       "0        50.12\n",
       "1        54.10\n",
       "2        54.65\n",
       "3        52.38\n",
       "4        52.95\n",
       "         ...  \n",
       "3007    772.88\n",
       "3008    771.07\n",
       "3009    773.18\n",
       "3010    771.61\n",
       "3011    782.22\n",
       "Name: Stock Price, Length: 3012, dtype: float64"
      ]
     },
     "execution_count": 106,
     "metadata": {},
     "output_type": "execute_result"
    }
   ],
   "source": [
    "google=pd.read_csv(\"google_stock_price.csv\",usecols=['Stock Price']).squeeze()\n",
    "google"
   ]
  },
  {
   "cell_type": "code",
   "execution_count": 108,
   "id": "daa79992",
   "metadata": {},
   "outputs": [],
   "source": [
    "#google.sort_values(inplace=True)  #------ it gives you a value error"
   ]
  },
  {
   "cell_type": "code",
   "execution_count": 103,
   "id": "ef73199a",
   "metadata": {},
   "outputs": [
    {
     "data": {
      "text/plain": [
       "0        50.12\n",
       "1        54.10\n",
       "2        54.65\n",
       "3        52.38\n",
       "4        52.95\n",
       "         ...  \n",
       "3007    772.88\n",
       "3008    771.07\n",
       "3009    773.18\n",
       "3010    771.61\n",
       "3011    782.22\n",
       "Name: Stock Price, Length: 3012, dtype: float64"
      ]
     },
     "execution_count": 103,
     "metadata": {},
     "output_type": "execute_result"
    }
   ],
   "source": [
    "google=pd.read_csv(\"google_stock_price.csv\",usecols=['Stock Price']).squeeze().copy()\n",
    "google"
   ]
  },
  {
   "cell_type": "raw",
   "id": "52bda6fe",
   "metadata": {},
   "source": [
    "the dis advantage of inplace method  is it consumes more memory because it creates new memory for the sorted values."
   ]
  },
  {
   "cell_type": "code",
   "execution_count": 104,
   "id": "e9ebd7b0",
   "metadata": {},
   "outputs": [],
   "source": [
    "google.sort_values(inplace=True)"
   ]
  },
  {
   "cell_type": "code",
   "execution_count": 105,
   "id": "681533fd",
   "metadata": {},
   "outputs": [
    {
     "data": {
      "text/plain": [
       "11       49.95\n",
       "9        50.07\n",
       "0        50.12\n",
       "10       50.70\n",
       "12       50.74\n",
       "         ...  \n",
       "3010    771.61\n",
       "3007    772.88\n",
       "3009    773.18\n",
       "2859    776.60\n",
       "3011    782.22\n",
       "Name: Stock Price, Length: 3012, dtype: float64"
      ]
     },
     "execution_count": 105,
     "metadata": {},
     "output_type": "execute_result"
    }
   ],
   "source": [
    "google"
   ]
  },
  {
   "cell_type": "markdown",
   "id": "353328f7",
   "metadata": {},
   "source": [
    "# math method on series object"
   ]
  },
  {
   "cell_type": "code",
   "execution_count": 110,
   "id": "6940b43b",
   "metadata": {},
   "outputs": [],
   "source": [
    "google=pd.read_csv(\"google_stock_price.csv\",usecols=['Stock Price']).squeeze()"
   ]
  },
  {
   "cell_type": "code",
   "execution_count": 123,
   "id": "3b329053",
   "metadata": {},
   "outputs": [
    {
     "data": {
      "text/plain": [
       "count    3012.000000\n",
       "mean      334.310093\n",
       "std       173.187205\n",
       "min        49.950000\n",
       "25%       218.045000\n",
       "50%       283.315000\n",
       "75%       443.000000\n",
       "max       782.220000\n",
       "Name: Stock Price, dtype: float64"
      ]
     },
     "execution_count": 123,
     "metadata": {},
     "output_type": "execute_result"
    }
   ],
   "source": [
    "google.count()\n",
    "google.sum()\n",
    "google.mean()\n",
    "google.product()\n",
    "google.std()\n",
    "google.min()\n",
    "google.max()\n",
    "google.median()\n",
    "google.mode()\n",
    "google.describe()"
   ]
  },
  {
   "cell_type": "markdown",
   "id": "5f376ae8",
   "metadata": {},
   "source": [
    "# broadcasting"
   ]
  },
  {
   "cell_type": "code",
   "execution_count": 126,
   "id": "1bb06fac",
   "metadata": {},
   "outputs": [
    {
     "data": {
      "text/plain": [
       "0        50.12\n",
       "1        54.10\n",
       "2        54.65\n",
       "3        52.38\n",
       "4        52.95\n",
       "         ...  \n",
       "3007    772.88\n",
       "3008    771.07\n",
       "3009    773.18\n",
       "3010    771.61\n",
       "3011    782.22\n",
       "Name: Stock Price, Length: 3012, dtype: float64"
      ]
     },
     "execution_count": 126,
     "metadata": {},
     "output_type": "execute_result"
    }
   ],
   "source": [
    "google=pd.read_csv(\"google_stock_price.csv\",usecols=['Stock Price']).squeeze()\n",
    "google"
   ]
  },
  {
   "cell_type": "code",
   "execution_count": 133,
   "id": "94bf1d97",
   "metadata": {},
   "outputs": [
    {
     "data": {
      "text/plain": [
       "0        52.12\n",
       "1        56.10\n",
       "2        56.65\n",
       "3        54.38\n",
       "4        54.95\n",
       "         ...  \n",
       "3007    774.88\n",
       "3008    773.07\n",
       "3009    775.18\n",
       "3010    773.61\n",
       "3011    784.22\n",
       "Name: Stock Price, Length: 3012, dtype: float64"
      ]
     },
     "execution_count": 133,
     "metadata": {},
     "output_type": "execute_result"
    }
   ],
   "source": [
    "google + 5\n",
    "google - 5\n",
    "google *2\n",
    "google.add(2)"
   ]
  },
  {
   "cell_type": "markdown",
   "id": "a10737c9",
   "metadata": {},
   "source": [
    "# the value _counts method"
   ]
  },
  {
   "cell_type": "code",
   "execution_count": 134,
   "id": "eabf01b5",
   "metadata": {},
   "outputs": [],
   "source": [
    "pokemon=pd.read_csv('pokemon.csv',index_col='Pokemon').squeeze()"
   ]
  },
  {
   "cell_type": "code",
   "execution_count": 144,
   "id": "a7f06092",
   "metadata": {},
   "outputs": [
    {
     "data": {
      "text/plain": [
       "Water       14.563107\n",
       "Normal      12.898752\n",
       "Grass        9.153953\n",
       "Bug          8.737864\n",
       "Fire         6.518724\n",
       "Psychic      6.518724\n",
       "Rock         5.686546\n",
       "Electric     4.993065\n",
       "Ground       4.160888\n",
       "Poison       3.883495\n",
       "Dark         3.883495\n",
       "Fighting     3.467406\n",
       "Dragon       3.328710\n",
       "Ghost        3.190014\n",
       "Ice          3.190014\n",
       "Steel        3.051318\n",
       "Fairy        2.357836\n",
       "Flying       0.416089\n",
       "Name: Type, dtype: float64"
      ]
     },
     "execution_count": 144,
     "metadata": {},
     "output_type": "execute_result"
    }
   ],
   "source": [
    "pokemon.value_counts()\n",
    "pokemon.value_counts(ascending=True)\n",
    "pokemon.value_counts(ascending=True).head()\n",
    "pokemon.value_counts(sort=False)\n",
    "pokemon.value_counts(normalize=True)\n",
    "pokemon.value_counts(normalize=True)* 100"
   ]
  },
  {
   "cell_type": "markdown",
   "id": "286de284",
   "metadata": {},
   "source": [
    "# the apply method"
   ]
  },
  {
   "cell_type": "code",
   "execution_count": 145,
   "id": "7cb4af25",
   "metadata": {},
   "outputs": [
    {
     "data": {
      "text/plain": [
       "Pokemon\n",
       "Bulbasaur       Grass\n",
       "Ivysaur         Grass\n",
       "Venusaur        Grass\n",
       "Charmander       Fire\n",
       "Charmeleon       Fire\n",
       "               ...   \n",
       "Yveltal          Dark\n",
       "Zygarde        Dragon\n",
       "Diancie          Rock\n",
       "Hoopa         Psychic\n",
       "Volcanion        Fire\n",
       "Name: Type, Length: 721, dtype: object"
      ]
     },
     "execution_count": 145,
     "metadata": {},
     "output_type": "execute_result"
    }
   ],
   "source": [
    "pokemon=pd.read_csv('pokemon.csv',index_col='Pokemon').squeeze()"
   ]
  },
  {
   "cell_type": "raw",
   "id": "6b83478c",
   "metadata": {},
   "source": [
    "apply ask for function or function name as an argument  not an integer or str"
   ]
  },
  {
   "cell_type": "code",
   "execution_count": 148,
   "id": "275f9acd",
   "metadata": {},
   "outputs": [
    {
     "data": {
      "text/plain": [
       "Pokemon\n",
       "Bulbasaur     5\n",
       "Ivysaur       5\n",
       "Venusaur      5\n",
       "Charmander    4\n",
       "Charmeleon    4\n",
       "             ..\n",
       "Yveltal       4\n",
       "Zygarde       6\n",
       "Diancie       4\n",
       "Hoopa         7\n",
       "Volcanion     4\n",
       "Name: Type, Length: 721, dtype: int64"
      ]
     },
     "execution_count": 148,
     "metadata": {},
     "output_type": "execute_result"
    }
   ],
   "source": [
    "pokemon.apply(len)  #-----built-in function "
   ]
  },
  {
   "cell_type": "code",
   "execution_count": 156,
   "id": "15f615db",
   "metadata": {},
   "outputs": [],
   "source": [
    "def rank_pokemon(pokemon_type):       #------custom function name\n",
    "    if pokemon_type in ['Grass','Fire','']:\n",
    "        return 'classic'\n",
    "    elif pokemon_type =='Psychic':\n",
    "        return 'boring'\n",
    "    else:\n",
    "        return 'tbb'     "
   ]
  },
  {
   "cell_type": "code",
   "execution_count": 157,
   "id": "3ea7f16a",
   "metadata": {},
   "outputs": [
    {
     "data": {
      "text/plain": [
       "Pokemon\n",
       "Bulbasaur     classic\n",
       "Ivysaur       classic\n",
       "Venusaur      classic\n",
       "Charmander    classic\n",
       "Charmeleon    classic\n",
       "               ...   \n",
       "Yveltal           tbb\n",
       "Zygarde           tbb\n",
       "Diancie           tbb\n",
       "Hoopa          boring\n",
       "Volcanion     classic\n",
       "Name: Type, Length: 721, dtype: object"
      ]
     },
     "execution_count": 157,
     "metadata": {},
     "output_type": "execute_result"
    }
   ],
   "source": [
    "pokemon.apply(rank_pokemon)"
   ]
  },
  {
   "cell_type": "markdown",
   "id": "057159ad",
   "metadata": {},
   "source": [
    "# the map method"
   ]
  },
  {
   "cell_type": "code",
   "execution_count": 161,
   "id": "7ae3fe62",
   "metadata": {},
   "outputs": [
    {
     "data": {
      "text/plain": [
       "Pokemon\n",
       "Bulbasaur       Grass\n",
       "Ivysaur         Grass\n",
       "Venusaur        Grass\n",
       "Charmander       Fire\n",
       "Charmeleon       Fire\n",
       "               ...   \n",
       "Yveltal          Dark\n",
       "Zygarde        Dragon\n",
       "Diancie          Rock\n",
       "Hoopa         Psychic\n",
       "Volcanion        Fire\n",
       "Name: Type, Length: 721, dtype: object"
      ]
     },
     "execution_count": 161,
     "metadata": {},
     "output_type": "execute_result"
    }
   ],
   "source": [
    "pokemon=pd.read_csv('pokemon.csv',index_col='Pokemon').squeeze()\n",
    "pokemon"
   ]
  },
  {
   "cell_type": "code",
   "execution_count": 164,
   "id": "3050986d",
   "metadata": {},
   "outputs": [
    {
     "data": {
      "text/plain": [
       "Grass        ok\n",
       "Fire       harm\n",
       "Dragon      old\n",
       "Dark      black\n",
       "dtype: object"
      ]
     },
     "execution_count": 164,
     "metadata": {},
     "output_type": "execute_result"
    }
   ],
   "source": [
    "mapping={  'Grass' : 'ok',\n",
    "            'Fire' : 'harm',\n",
    "          'Dragon' : 'old',\n",
    "           'Dark'  : 'black'\n",
    "    }\n",
    "mapping_series=pd.Series(mapping)\n",
    "mapping_series"
   ]
  },
  {
   "cell_type": "code",
   "execution_count": 165,
   "id": "7535b65c",
   "metadata": {},
   "outputs": [
    {
     "data": {
      "text/plain": [
       "Pokemon\n",
       "Bulbasaur        ok\n",
       "Ivysaur          ok\n",
       "Venusaur         ok\n",
       "Charmander     harm\n",
       "Charmeleon     harm\n",
       "              ...  \n",
       "Yveltal       black\n",
       "Zygarde         old\n",
       "Diancie         NaN\n",
       "Hoopa           NaN\n",
       "Volcanion      harm\n",
       "Name: Type, Length: 721, dtype: object"
      ]
     },
     "execution_count": 165,
     "metadata": {},
     "output_type": "execute_result"
    }
   ],
   "source": [
    "pokemon.map(mapping_series)"
   ]
  },
  {
   "cell_type": "raw",
   "id": "6e6b8561",
   "metadata": {},
   "source": [
    "map takes values from dictionary and series object"
   ]
  },
  {
   "cell_type": "code",
   "execution_count": null,
   "id": "fd9387a6",
   "metadata": {},
   "outputs": [],
   "source": []
  },
  {
   "cell_type": "code",
   "execution_count": null,
   "id": "e5efc57b",
   "metadata": {},
   "outputs": [],
   "source": []
  },
  {
   "cell_type": "code",
   "execution_count": null,
   "id": "7c94cb53",
   "metadata": {},
   "outputs": [],
   "source": []
  },
  {
   "cell_type": "code",
   "execution_count": null,
   "id": "0c5bf6dd",
   "metadata": {},
   "outputs": [],
   "source": []
  },
  {
   "cell_type": "code",
   "execution_count": null,
   "id": "f0cf21b6",
   "metadata": {},
   "outputs": [],
   "source": []
  },
  {
   "cell_type": "code",
   "execution_count": null,
   "id": "a6ed2e2c",
   "metadata": {},
   "outputs": [],
   "source": []
  },
  {
   "cell_type": "code",
   "execution_count": null,
   "id": "d74c78f2",
   "metadata": {},
   "outputs": [],
   "source": []
  },
  {
   "cell_type": "code",
   "execution_count": null,
   "id": "b8e03c6e",
   "metadata": {},
   "outputs": [],
   "source": []
  },
  {
   "cell_type": "code",
   "execution_count": null,
   "id": "fa0567ab",
   "metadata": {},
   "outputs": [],
   "source": []
  },
  {
   "cell_type": "code",
   "execution_count": null,
   "id": "b1d46666",
   "metadata": {},
   "outputs": [],
   "source": []
  },
  {
   "cell_type": "code",
   "execution_count": null,
   "id": "77d59bf2",
   "metadata": {},
   "outputs": [],
   "source": []
  },
  {
   "cell_type": "code",
   "execution_count": null,
   "id": "520128ed",
   "metadata": {},
   "outputs": [],
   "source": []
  },
  {
   "cell_type": "code",
   "execution_count": null,
   "id": "c510d00a",
   "metadata": {},
   "outputs": [],
   "source": []
  },
  {
   "cell_type": "code",
   "execution_count": null,
   "id": "43c4f443",
   "metadata": {},
   "outputs": [],
   "source": []
  },
  {
   "cell_type": "code",
   "execution_count": null,
   "id": "2d8b50cf",
   "metadata": {},
   "outputs": [],
   "source": []
  }
 ],
 "metadata": {
  "kernelspec": {
   "display_name": "Python 3 (ipykernel)",
   "language": "python",
   "name": "python3"
  },
  "language_info": {
   "codemirror_mode": {
    "name": "ipython",
    "version": 3
   },
   "file_extension": ".py",
   "mimetype": "text/x-python",
   "name": "python",
   "nbconvert_exporter": "python",
   "pygments_lexer": "ipython3",
   "version": "3.9.7"
  }
 },
 "nbformat": 4,
 "nbformat_minor": 5
}
